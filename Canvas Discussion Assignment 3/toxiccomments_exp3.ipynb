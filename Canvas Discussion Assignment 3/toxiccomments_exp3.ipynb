{
 "cells": [
  {
   "cell_type": "markdown",
   "metadata": {},
   "source": [
    "# Toxic comments\n",
    "\n",
    "This notebook takes you though a complete iteration of Machine Learning Assignment 1 - Toxic comments. The assignment details (including links to download the data) can be found [here](https://docs.google.com/document/d/1WGYw99e5q6j5V0Zrf2HveagU6URt_kVvdR8B9HYQ99E/edit?usp=sharing). "
   ]
  },
  {
   "cell_type": "code",
   "execution_count": 1,
   "metadata": {},
   "outputs": [],
   "source": [
    "# all imports and magic commands\n",
    "import numpy as np\n",
    "import pandas as pd\n",
    "import matplotlib.pyplot as plt\n",
    "from my_measures import BinaryClassificationPerformance\n",
    "from sklearn.feature_extraction.text import HashingVectorizer\n",
    "from sklearn.feature_extraction.text import TfidfTransformer\n",
    "from sklearn.feature_extraction.text import CountVectorizer\n",
    "from scipy.sparse import csr_matrix, hstack\n",
    "from sklearn.preprocessing import StandardScaler,MinMaxScaler\n",
    "from sklearn.model_selection import train_test_split\n",
    "%matplotlib inline"
   ]
  },
  {
   "cell_type": "markdown",
   "metadata": {},
   "source": [
    "### IMPORTANT!!! Make sure you are using `BinaryClassificationPerformance` v1.02"
   ]
  },
  {
   "cell_type": "code",
   "execution_count": 10,
   "metadata": {},
   "outputs": [
    {
     "name": "stdout",
     "output_type": "stream",
     "text": [
      "Help on class BinaryClassificationPerformance in module my_measures:\n",
      "\n",
      "class BinaryClassificationPerformance(builtins.object)\n",
      " |  Performance measures to evaluate the fit of a binary classification model, v1.02\n",
      " |  \n",
      " |  Methods defined here:\n",
      " |  \n",
      " |  __init__(self, predictions, labels, desc, probabilities=None)\n",
      " |      Initialize attributes: predictions-vector of predicted values for Y, labels-vector of labels for Y\n",
      " |  \n",
      " |  compute_measures(self)\n",
      " |      Compute performance measures defined by Flach p. 57\n",
      " |  \n",
      " |  img_indices(self)\n",
      " |      Get the indices of true and false positives to be able to locate the corresponding images in a list of image names\n",
      " |  \n",
      " |  ----------------------------------------------------------------------\n",
      " |  Data descriptors defined here:\n",
      " |  \n",
      " |  __dict__\n",
      " |      dictionary for instance variables (if defined)\n",
      " |  \n",
      " |  __weakref__\n",
      " |      list of weak references to the object (if defined)\n",
      "\n"
     ]
    }
   ],
   "source": [
    "help(BinaryClassificationPerformance)"
   ]
  },
  {
   "cell_type": "markdown",
   "metadata": {},
   "source": [
    "# Function for feature building and extraction on natural language data"
   ]
  },
  {
   "cell_type": "code",
   "execution_count": 10,
   "metadata": {},
   "outputs": [],
   "source": [
    "# function that takes raw data and completes all preprocessing required before model fits\n",
    "def process_raw_data(fn, my_random_seed, test=False):\n",
    "    # read and summarize data\n",
    "    toxic_data = pd.read_csv(fn)\n",
    "    if (not test):\n",
    "        # add an indicator for any toxic, severe toxic, obscene, threat, insult, or indentity hate\n",
    "        toxic_data['any_toxic'] = (toxic_data['toxic'] + toxic_data['severe_toxic'] + toxic_data['obscene'] + toxic_data['threat'] + toxic_data['insult'] + toxic_data['identity_hate'] > 0)\n",
    "    print(\"toxic_data is:\", type(toxic_data))\n",
    "    print(\"toxic_data has\", toxic_data.shape[0], \"rows and\", toxic_data.shape[1], \"columns\", \"\\n\")\n",
    "    print(\"the data types for each of the columns in toxic_data:\")\n",
    "    print(toxic_data.dtypes, \"\\n\")\n",
    "    print(\"the first 10 rows in toxic_data:\")\n",
    "    print(toxic_data.head(5))\n",
    "    if (not test):\n",
    "        print(\"The rate of 'toxic' Wikipedia comments in the dataset: \")\n",
    "        print(toxic_data['any_toxic'].mean())\n",
    "\n",
    "    # vectorize Bag of Words from review text; as sparse matrix\n",
    "    if (not test): # fit_transform()\n",
    "        #hv = CountVectorizer() #189777\n",
    "        #hv = HashingVectorizer(n_features=2 ** 17, alternate_sign=False) #131074\n",
    "        hv = HashingVectorizer(n_features=2 ** 9, alternate_sign=False) # 514\n",
    "        X_hv = hv.fit_transform(toxic_data.comment_text)\n",
    "        fitted_transformations.append(hv)\n",
    "        print(\"Shape of CountVectorizer X:\")\n",
    "        print(X_hv.shape)\n",
    "    else: # transform() \n",
    "        X_hv = fitted_transformations[0].transform(toxic_data.comment_text)\n",
    "        print(\"Shape of CountVectorizer X:\")\n",
    "        print(X_hv.shape)\n",
    "    \n",
    "    # http://scikit-learn.org/stable/modules/generated/sklearn.feature_extraction.text.TfidfTransformer.html\n",
    "    if (not test):\n",
    "        transformer = TfidfTransformer()\n",
    "        X_tfidf = transformer.fit_transform(X_hv)\n",
    "        fitted_transformations.append(transformer)\n",
    "    else:\n",
    "        X_tfidf = fitted_transformations[1].transform(X_hv)\n",
    "    \n",
    "    # create additional quantitative features\n",
    "    # features from Amazon.csv to add to feature set\n",
    "    toxic_data['word_count'] = toxic_data['comment_text'].str.split(' ').str.len()\n",
    "    toxic_data['punc_count'] = toxic_data['comment_text'].str.count(\"\\.\")\n",
    "\n",
    "    X_quant_features = toxic_data[[\"word_count\", \"punc_count\"]]\n",
    "    print(\"Look at a few rows of the new quantitative features: \")\n",
    "    print(X_quant_features.head(10))\n",
    "    \n",
    "    # Combine all quantitative features into a single sparse matrix\n",
    "    X_quant_features_csr = csr_matrix(X_quant_features)\n",
    "    X_combined = hstack([X_tfidf, X_quant_features_csr])\n",
    "    X_matrix = csr_matrix(X_combined) # convert to sparse matrix\n",
    "    print(\"Size of combined bag of words and new quantitative variables matrix:\")\n",
    "    print(X_matrix.shape)\n",
    "    \n",
    "    # Create `X`, scaled matrix of features\n",
    "    # feature scaling\n",
    "    if (not test):\n",
    "        sc = StandardScaler(with_mean=False)\n",
    "        #sc = MinMaxScaler()\n",
    "        X = sc.fit_transform(X_matrix)\n",
    "        fitted_transformations.append(sc)\n",
    "        print(X.shape)\n",
    "        y = toxic_data['any_toxic']\n",
    "    else:\n",
    "        X = fitted_transformations[2].transform(X_matrix)\n",
    "        print(X.shape)\n",
    "    \n",
    "    # Create Training and Test Sets\n",
    "    # enter an integer for the random_state parameter; any integer will work\n",
    "    if (test):\n",
    "        X_submission_test = X\n",
    "        print(\"Shape of X_test for submission:\")\n",
    "        print(X_submission_test.shape)\n",
    "        print('SUCCESS!')\n",
    "        return(toxic_data, X_submission_test)\n",
    "    else: \n",
    "        X_train, X_test, y_train, y_test, X_raw_train, X_raw_test = train_test_split(X, y, toxic_data, test_size=0.2, random_state=my_random_seed)\n",
    "        print(\"Shape of X_train and X_test:\")\n",
    "        print(X_train.shape)\n",
    "        print(X_test.shape)\n",
    "        print(\"Shape of y_train and y_test:\")\n",
    "        print(y_train.shape)\n",
    "        print(y_test.shape)\n",
    "        print(\"Shape of X_raw_train and X_raw_test:\")\n",
    "        print(X_raw_train.shape)\n",
    "        print(X_raw_test.shape)\n",
    "        print('SUCCESS!')\n",
    "        return(X_train, X_test, y_train, y_test, X_raw_train, X_raw_test)"
   ]
  },
  {
   "cell_type": "markdown",
   "metadata": {},
   "source": [
    "# Create training and test sets from function"
   ]
  },
  {
   "cell_type": "code",
   "execution_count": 17,
   "metadata": {},
   "outputs": [
    {
     "name": "stdout",
     "output_type": "stream",
     "text": [
      "toxic_data is: <class 'pandas.core.frame.DataFrame'>\n",
      "toxic_data has 159571 rows and 9 columns \n",
      "\n",
      "the data types for each of the columns in toxic_data:\n",
      "id               object\n",
      "comment_text     object\n",
      "toxic             int64\n",
      "severe_toxic      int64\n",
      "obscene           int64\n",
      "threat            int64\n",
      "insult            int64\n",
      "identity_hate     int64\n",
      "any_toxic          bool\n",
      "dtype: object \n",
      "\n",
      "the first 10 rows in toxic_data:\n",
      "                 id                                       comment_text  toxic  \\\n",
      "0  0000997932d777bf  Explanation\\nWhy the edits made under my usern...      0   \n",
      "1  000103f0d9cfb60f  D'aww! He matches this background colour I'm s...      0   \n",
      "2  000113f07ec002fd  Hey man, I'm really not trying to edit war. It...      0   \n",
      "3  0001b41b1c6bb37e  \"\\nMore\\nI can't make any real suggestions on ...      0   \n",
      "4  0001d958c54c6e35  You, sir, are my hero. Any chance you remember...      0   \n",
      "\n",
      "   severe_toxic  obscene  threat  insult  identity_hate  any_toxic  \n",
      "0             0        0       0       0              0      False  \n",
      "1             0        0       0       0              0      False  \n",
      "2             0        0       0       0              0      False  \n",
      "3             0        0       0       0              0      False  \n",
      "4             0        0       0       0              0      False  \n",
      "The rate of 'toxic' Wikipedia comments in the dataset: \n",
      "0.10167887648758234\n",
      "Shape of CountVectorizer X:\n",
      "(159571, 512)\n",
      "Look at a few rows of the new quantitative features: \n",
      "   word_count  punc_count\n",
      "0          42           5\n",
      "1          18           2\n",
      "2          42           3\n",
      "3         112           3\n",
      "4          13           1\n",
      "5          12           1\n",
      "6           8           0\n",
      "7          21           2\n",
      "8          83           7\n",
      "9          12           0\n",
      "Size of combined bag of words and new quantitative variables matrix:\n",
      "(159571, 514)\n",
      "(159571, 514)\n",
      "Shape of X_train and X_test:\n",
      "(127656, 514)\n",
      "(31915, 514)\n",
      "Shape of y_train and y_test:\n",
      "(127656,)\n",
      "(31915,)\n",
      "Shape of X_raw_train and X_raw_test:\n",
      "(127656, 11)\n",
      "(31915, 11)\n",
      "SUCCESS!\n",
      "Number of fits stored in `fitted_transformations` list: \n",
      "3\n"
     ]
    }
   ],
   "source": [
    "# create an empty list to store any use of fit_transform() to transform() later\n",
    "# it is a global list to store model and feature extraction fits\n",
    "fitted_transformations = []\n",
    "\n",
    "# CHANGE FILE PATH and my_random_seed number (any integer other than 74 will do): \n",
    "X_train, X_test, y_train, y_test, X_raw_train, X_raw_test = process_raw_data(fn='./toxiccomments_train.csv', my_random_seed=15)\n",
    "\n",
    "print(\"Number of fits stored in `fitted_transformations` list: \")\n",
    "print(len(fitted_transformations))"
   ]
  },
  {
   "cell_type": "markdown",
   "metadata": {},
   "source": [
    "# SVC with Different  Regularizations"
   ]
  },
  {
   "cell_type": "code",
   "execution_count": 20,
   "metadata": {},
   "outputs": [
    {
     "name": "stderr",
     "output_type": "stream",
     "text": [
      "/Users/yuyuan/opt/anaconda3/lib/python3.9/site-packages/sklearn/svm/_base.py:255: ConvergenceWarning: Solver terminated early (max_iter=1000).  Consider pre-processing your data with StandardScaler or MinMaxScaler.\n",
      "  warnings.warn('Solver terminated early (max_iter=%i).'\n"
     ]
    },
    {
     "name": "stdout",
     "output_type": "stream",
     "text": [
      "{'Pos': 13000, 'Neg': 114656, 'TP': 9625, 'TN': 82035, 'FP': 32621, 'FN': 3375, 'Accuracy': 0.718023437989597, 'Precision': 0.2278322208019694, 'Recall': 0.7403846153846154, 'desc': 'clf_train_1'}\n"
     ]
    }
   ],
   "source": [
    "from sklearn.svm import SVC\n",
    "from sklearn.pipeline import make_pipeline\n",
    "from sklearn.preprocessing import StandardScaler, MinMaxScaler\n",
    "\n",
    "clf_1 = SVC(C = 1e-4, max_iter=1000)\n",
    "clf_1.fit(X_train, y_train)\n",
    "\n",
    "clf_performance_train_1 = BinaryClassificationPerformance(clf_1.predict(X_train), y_train, 'clf_train_1')\n",
    "clf_performance_train_1.compute_measures()\n",
    "print(clf_performance_train_1.performance_measures)"
   ]
  },
  {
   "cell_type": "code",
   "execution_count": 21,
   "metadata": {},
   "outputs": [
    {
     "name": "stderr",
     "output_type": "stream",
     "text": [
      "/Users/yuyuan/opt/anaconda3/lib/python3.9/site-packages/sklearn/svm/_base.py:255: ConvergenceWarning: Solver terminated early (max_iter=1000).  Consider pre-processing your data with StandardScaler or MinMaxScaler.\n",
      "  warnings.warn('Solver terminated early (max_iter=%i).'\n"
     ]
    },
    {
     "name": "stdout",
     "output_type": "stream",
     "text": [
      "{'Pos': 13000, 'Neg': 114656, 'TP': 9635, 'TN': 82983, 'FP': 31673, 'FN': 3365, 'Accuracy': 0.7255279814501473, 'Precision': 0.23324779703689358, 'Recall': 0.7411538461538462, 'desc': 'clf_train_2'}\n"
     ]
    }
   ],
   "source": [
    "clf_2 = SVC(C = 1e-3, max_iter=1000)\n",
    "clf_2.fit(X_train, y_train)\n",
    "\n",
    "clf_performance_train_2 = BinaryClassificationPerformance(clf_2.predict(X_train), y_train, 'clf_train_2')\n",
    "clf_performance_train_2.compute_measures()\n",
    "print(clf_performance_train_2.performance_measures)"
   ]
  },
  {
   "cell_type": "code",
   "execution_count": 22,
   "metadata": {},
   "outputs": [
    {
     "name": "stderr",
     "output_type": "stream",
     "text": [
      "/Users/yuyuan/opt/anaconda3/lib/python3.9/site-packages/sklearn/svm/_base.py:255: ConvergenceWarning: Solver terminated early (max_iter=1000).  Consider pre-processing your data with StandardScaler or MinMaxScaler.\n",
      "  warnings.warn('Solver terminated early (max_iter=%i).'\n"
     ]
    },
    {
     "name": "stdout",
     "output_type": "stream",
     "text": [
      "{'Pos': 13000, 'Neg': 114656, 'TP': 10744, 'TN': 78519, 'FP': 36137, 'FN': 2256, 'Accuracy': 0.6992464122328759, 'Precision': 0.22917599880548623, 'Recall': 0.8264615384615385, 'desc': 'clf_train_3'}\n"
     ]
    }
   ],
   "source": [
    "clf_3 = SVC(C = 1e-2, max_iter=1000)\n",
    "clf_3.fit(X_train, y_train)\n",
    "\n",
    "clf_performance_train_3 = BinaryClassificationPerformance(clf_3.predict(X_train), y_train, 'clf_train_3')\n",
    "clf_performance_train_3.compute_measures()\n",
    "print(clf_performance_train_3.performance_measures)"
   ]
  },
  {
   "cell_type": "code",
   "execution_count": 23,
   "metadata": {},
   "outputs": [
    {
     "name": "stderr",
     "output_type": "stream",
     "text": [
      "/Users/yuyuan/opt/anaconda3/lib/python3.9/site-packages/sklearn/svm/_base.py:255: ConvergenceWarning: Solver terminated early (max_iter=1000).  Consider pre-processing your data with StandardScaler or MinMaxScaler.\n",
      "  warnings.warn('Solver terminated early (max_iter=%i).'\n"
     ]
    },
    {
     "name": "stdout",
     "output_type": "stream",
     "text": [
      "{'Pos': 13000, 'Neg': 114656, 'TP': 9432, 'TN': 84998, 'FP': 29658, 'FN': 3568, 'Accuracy': 0.7397223788932756, 'Precision': 0.24128933231005373, 'Recall': 0.7255384615384616, 'desc': 'clf_train_4'}\n"
     ]
    }
   ],
   "source": [
    "clf_4 = SVC(C = 1e-1, max_iter=1000)\n",
    "clf_4.fit(X_train, y_train)\n",
    "\n",
    "clf_performance_train_4 = BinaryClassificationPerformance(clf_4.predict(X_train), y_train, 'clf_train_4')\n",
    "clf_performance_train_4.compute_measures()\n",
    "print(clf_performance_train_4.performance_measures)"
   ]
  },
  {
   "cell_type": "code",
   "execution_count": 24,
   "metadata": {},
   "outputs": [
    {
     "name": "stderr",
     "output_type": "stream",
     "text": [
      "/Users/yuyuan/opt/anaconda3/lib/python3.9/site-packages/sklearn/svm/_base.py:255: ConvergenceWarning: Solver terminated early (max_iter=1000).  Consider pre-processing your data with StandardScaler or MinMaxScaler.\n",
      "  warnings.warn('Solver terminated early (max_iter=%i).'\n"
     ]
    },
    {
     "name": "stdout",
     "output_type": "stream",
     "text": [
      "{'Pos': 13000, 'Neg': 114656, 'TP': 7255, 'TN': 90384, 'FP': 24272, 'FN': 5745, 'Accuracy': 0.764860249420317, 'Precision': 0.23012021441938657, 'Recall': 0.558076923076923, 'desc': 'clf_train_5'}\n"
     ]
    }
   ],
   "source": [
    "clf_5 = SVC(C = 1, max_iter=1000)\n",
    "clf_5.fit(X_train, y_train)\n",
    "\n",
    "clf_performance_train_5 = BinaryClassificationPerformance(clf_5.predict(X_train), y_train, 'clf_train_5')\n",
    "clf_performance_train_5.compute_measures()\n",
    "print(clf_performance_train_5.performance_measures)"
   ]
  },
  {
   "cell_type": "code",
   "execution_count": 25,
   "metadata": {},
   "outputs": [
    {
     "name": "stderr",
     "output_type": "stream",
     "text": [
      "/Users/yuyuan/opt/anaconda3/lib/python3.9/site-packages/sklearn/svm/_base.py:255: ConvergenceWarning: Solver terminated early (max_iter=1000).  Consider pre-processing your data with StandardScaler or MinMaxScaler.\n",
      "  warnings.warn('Solver terminated early (max_iter=%i).'\n"
     ]
    },
    {
     "name": "stdout",
     "output_type": "stream",
     "text": [
      "{'Pos': 13000, 'Neg': 114656, 'TP': 7531, 'TN': 84459, 'FP': 30197, 'FN': 5469, 'Accuracy': 0.7206085103716238, 'Precision': 0.19961301950805768, 'Recall': 0.5793076923076923, 'desc': 'clf_train_6'}\n"
     ]
    }
   ],
   "source": [
    "clf_6 = SVC(C = 10, max_iter=1000)\n",
    "clf_6.fit(X_train, y_train)\n",
    "\n",
    "clf_performance_train_6 = BinaryClassificationPerformance(clf_6.predict(X_train), y_train, 'clf_train_6')\n",
    "clf_performance_train_6.compute_measures()\n",
    "print(clf_performance_train_6.performance_measures)"
   ]
  },
  {
   "cell_type": "markdown",
   "metadata": {},
   "source": [
    "### ROC plot to compare performance of various models and fits"
   ]
  },
  {
   "cell_type": "code",
   "execution_count": 27,
   "metadata": {
    "scrolled": false
   },
   "outputs": [
    {
     "name": "stderr",
     "output_type": "stream",
     "text": [
      "/var/folders/xb/cbktfhg92ng2z19072jvt4340000gn/T/ipykernel_42590/2590429220.py:9: UserWarning: color is redundantly defined by the 'color' keyword argument and the fmt string \"bo\" (-> color='b'). The keyword argument will take precedence.\n",
      "  plt.plot(fit.performance_measures['FP'] / fit.performance_measures['Neg'],\n"
     ]
    },
    {
     "data": {
      "image/png": "[encoded data removed]",
      "text/plain": [
       "<Figure size 432x288 with 1 Axes>"
      ]
     },
     "metadata": {
      "needs_background": "light"
     },
     "output_type": "display_data"
    }
   ],
   "source": [
    "fits = [clf_performance_train_1,clf_performance_train_2,clf_performance_train_3,clf_performance_train_4,clf_performance_train_5,\n",
    "       clf_performance_train_6]\n",
    "colors = ['red','yellow','blue','green','orange','purple']\n",
    "\n",
    "for i in range(len(fits)):\n",
    "    fit = fits[i]\n",
    "    color = colors[i]\n",
    "    label = fit.desc\n",
    "    plt.plot(fit.performance_measures['FP'] / fit.performance_measures['Neg'], \n",
    "             fit.performance_measures['TP'] / fit.performance_measures['Pos'], 'bo',color=color, label=label)\n",
    "    plt.legend(loc='upper right')\n",
    "    #plt.text(fit.performance_measures['FP'] / fit.performance_measures['Neg'], \n",
    "    #         fit.performance_measures['TP'] / fit.performance_measures['Pos'], fit.desc)\n",
    "    \n",
    "#plt.plot(x, y, linewidth = '1', label = \"test\", color=' coral ', linestyle=':', marker='|')\n",
    "plt.axis([0, 1, 0, 1])\n",
    "plt.title('ROC plot: train set')\n",
    "plt.xlabel('False positive rate')\n",
    "plt.ylabel('True positive rate')\n",
    "plt.show()\n"
   ]
  },
  {
   "cell_type": "markdown",
   "metadata": {},
   "source": [
    "### let's look at some false positives:"
   ]
  },
  {
   "cell_type": "code",
   "execution_count": 22,
   "metadata": {},
   "outputs": [],
   "source": [
    "clf_6_predictions = clf_6.predict(X_train)"
   ]
  },
  {
   "cell_type": "code",
   "execution_count": 30,
   "metadata": {},
   "outputs": [
    {
     "name": "stdout",
     "output_type": "stream",
     "text": [
      "Examples of false positives:\n"
     ]
    },
    {
     "data": {
      "text/plain": [
       "\"\\nfor i in range(0, len(clf_6_predictions)):\\n    if (clf_6_predictions[i] == 1):\\n        if (X_raw_train.iloc[i]['any_toxic'] == 0):\\n            if (random.uniform(0, 1) < 0.05): # to print only 5% of the false positives\\n                print(i)\\n                print(X_raw_train.iloc[i]['comment_text'])\\n                print('* * * * * * * * * ')\\n\""
      ]
     },
     "execution_count": 30,
     "metadata": {},
     "output_type": "execute_result"
    }
   ],
   "source": [
    "# false positives\n",
    "\n",
    "print(\"Examples of false positives:\")\n",
    "\n",
    "import random, time\n",
    "'''\n",
    "for i in range(0, len(clf_6_predictions)):\n",
    "    if (clf_6_predictions[i] == 1):\n",
    "        if (X_raw_train.iloc[i]['any_toxic'] == 0):\n",
    "            if (random.uniform(0, 1) < 0.05): # to print only 5% of the false positives\n",
    "                print(i)\n",
    "                print(X_raw_train.iloc[i]['comment_text'])\n",
    "                print('* * * * * * * * * ')\n",
    "'''"
   ]
  },
  {
   "cell_type": "markdown",
   "metadata": {},
   "source": [
    "---\n",
    "\n",
    "# <span style=\"color:red\">WARNING: Don't look at test set performance too much!</span>\n",
    "\n",
    "---\n",
    "\n",
    "The following cells show performance on your test set. Do not look at this too often! "
   ]
  },
  {
   "cell_type": "markdown",
   "metadata": {},
   "source": [
    "# Look at performance on the test set"
   ]
  },
  {
   "cell_type": "markdown",
   "metadata": {},
   "source": [
    "### MODEL: SVC"
   ]
  },
  {
   "cell_type": "code",
   "execution_count": 31,
   "metadata": {},
   "outputs": [
    {
     "name": "stdout",
     "output_type": "stream",
     "text": [
      "{'Pos': 3225, 'Neg': 28690, 'TP': 2393, 'TN': 20738, 'FP': 7952, 'FN': 832, 'Accuracy': 0.7247689174369418, 'Precision': 0.23131947800869984, 'Recall': 0.742015503875969, 'desc': 'clf_test_1'}\n"
     ]
    }
   ],
   "source": [
    "clf_performance_test_1 = BinaryClassificationPerformance(clf_1.predict(X_test), y_test, 'clf_test_1')\n",
    "clf_performance_test_1.compute_measures()\n",
    "print(clf_performance_test_1.performance_measures)"
   ]
  },
  {
   "cell_type": "code",
   "execution_count": 33,
   "metadata": {},
   "outputs": [
    {
     "name": "stdout",
     "output_type": "stream",
     "text": [
      "{'Pos': 3225, 'Neg': 28690, 'TP': 2404, 'TN': 20939, 'FP': 7751, 'FN': 821, 'Accuracy': 0.7314115619614602, 'Precision': 0.23673067454455934, 'Recall': 0.7454263565891472, 'desc': 'clf_test_2'}\n"
     ]
    }
   ],
   "source": [
    "clf_performance_test_2 = BinaryClassificationPerformance(clf_2.predict(X_test), y_test, 'clf_test_2')\n",
    "clf_performance_test_2.compute_measures()\n",
    "print(clf_performance_test_2.performance_measures)"
   ]
  },
  {
   "cell_type": "code",
   "execution_count": 34,
   "metadata": {},
   "outputs": [
    {
     "name": "stdout",
     "output_type": "stream",
     "text": [
      "{'Pos': 3225, 'Neg': 28690, 'TP': 2628, 'TN': 19839, 'FP': 8851, 'FN': 597, 'Accuracy': 0.7039636534544885, 'Precision': 0.22893980311873857, 'Recall': 0.8148837209302325, 'desc': 'clf_test_3'}\n"
     ]
    }
   ],
   "source": [
    "clf_performance_test_3 = BinaryClassificationPerformance(clf_3.predict(X_test), y_test, 'clf_test_3')\n",
    "clf_performance_test_3.compute_measures()\n",
    "print(clf_performance_test_3.performance_measures)"
   ]
  },
  {
   "cell_type": "code",
   "execution_count": 35,
   "metadata": {},
   "outputs": [
    {
     "name": "stdout",
     "output_type": "stream",
     "text": [
      "{'Pos': 3225, 'Neg': 28690, 'TP': 2259, 'TN': 21328, 'FP': 7362, 'FN': 966, 'Accuracy': 0.739056869810434, 'Precision': 0.23479887745556596, 'Recall': 0.7004651162790698, 'desc': 'clf_test_4'}\n"
     ]
    }
   ],
   "source": [
    "clf_performance_test_4 = BinaryClassificationPerformance(clf_4.predict(X_test), y_test, 'clf_test_4')\n",
    "clf_performance_test_4.compute_measures()\n",
    "print(clf_performance_test_4.performance_measures)"
   ]
  },
  {
   "cell_type": "code",
   "execution_count": 36,
   "metadata": {},
   "outputs": [
    {
     "name": "stdout",
     "output_type": "stream",
     "text": [
      "{'Pos': 3225, 'Neg': 28690, 'TP': 1642, 'TN': 22417, 'FP': 6273, 'FN': 1583, 'Accuracy': 0.7538461538461538, 'Precision': 0.20745420088439673, 'Recall': 0.5091472868217054, 'desc': 'clf_test_5'}\n"
     ]
    }
   ],
   "source": [
    "clf_performance_test_5 = BinaryClassificationPerformance(clf_5.predict(X_test), y_test, 'clf_test_5')\n",
    "clf_performance_test_5.compute_measures()\n",
    "print(clf_performance_test_5.performance_measures)"
   ]
  },
  {
   "cell_type": "code",
   "execution_count": 37,
   "metadata": {},
   "outputs": [
    {
     "name": "stdout",
     "output_type": "stream",
     "text": [
      "{'Pos': 3225, 'Neg': 28690, 'TP': 1690, 'TN': 21016, 'FP': 7674, 'FN': 1535, 'Accuracy': 0.7114522951590161, 'Precision': 0.18047842802221273, 'Recall': 0.524031007751938, 'desc': 'clf_test_6'}\n"
     ]
    }
   ],
   "source": [
    "clf_performance_test_6 = BinaryClassificationPerformance(clf_6.predict(X_test), y_test, 'clf_test_6')\n",
    "clf_performance_test_6.compute_measures()\n",
    "print(clf_performance_test_6.performance_measures)"
   ]
  },
  {
   "cell_type": "code",
   "execution_count": null,
   "metadata": {},
   "outputs": [],
   "source": []
  },
  {
   "cell_type": "code",
   "execution_count": null,
   "metadata": {},
   "outputs": [],
   "source": []
  },
  {
   "cell_type": "code",
   "execution_count": null,
   "metadata": {},
   "outputs": [],
   "source": []
  },
  {
   "cell_type": "code",
   "execution_count": null,
   "metadata": {},
   "outputs": [],
   "source": []
  },
  {
   "cell_type": "markdown",
   "metadata": {},
   "source": [
    "### ROC plot to compare performance of various models and fits"
   ]
  },
  {
   "cell_type": "code",
   "execution_count": 39,
   "metadata": {},
   "outputs": [
    {
     "name": "stderr",
     "output_type": "stream",
     "text": [
      "/var/folders/xb/cbktfhg92ng2z19072jvt4340000gn/T/ipykernel_42590/2653158307.py:10: UserWarning: color is redundantly defined by the 'color' keyword argument and the fmt string \"bo\" (-> color='b'). The keyword argument will take precedence.\n",
      "  plt.plot(fit.performance_measures['FP'] / fit.performance_measures['Neg'],\n"
     ]
    },
    {
     "data": {
      "image/png": "[encoded data removed]",
      "text/plain": [
       "<Figure size 432x288 with 1 Axes>"
      ]
     },
     "metadata": {
      "needs_background": "light"
     },
     "output_type": "display_data"
    }
   ],
   "source": [
    "fits = [clf_performance_test_1,clf_performance_test_2,clf_performance_test_3,clf_performance_test_4,\n",
    "       clf_performance_test_5,clf_performance_test_6]\n",
    "colors = ['red','yellow','blue','green','orange','purple']\n",
    "\n",
    "\n",
    "for i in range(len(fits)):\n",
    "    fit = fits[i]\n",
    "    color = colors[i]\n",
    "    label = fit.desc\n",
    "    plt.plot(fit.performance_measures['FP'] / fit.performance_measures['Neg'], \n",
    "             fit.performance_measures['TP'] / fit.performance_measures['Pos'], 'bo',color=color, label=label)\n",
    "    plt.legend(loc='upper right')\n",
    "    #plt.text(fit.performance_measures['FP'] / fit.performance_measures['Neg'], \n",
    "    #         fit.performance_measures['TP'] / fit.performance_measures['Pos'], fit.desc)\n",
    "    \n",
    "#plt.plot(x, y, linewidth = '1', label = \"test\", color=' coral ', linestyle=':', marker='|')\n",
    "plt.axis([-0.01, 1, 0.0, 1])\n",
    "plt.title('ROC plot: test set')\n",
    "plt.xlabel('False positive rate')\n",
    "plt.ylabel('True positive rate')\n",
    "plt.show()"
   ]
  },
  {
   "cell_type": "code",
   "execution_count": null,
   "metadata": {},
   "outputs": [],
   "source": []
  }
 ],
 "metadata": {
  "kernelspec": {
   "display_name": "Python 3 (ipykernel)",
   "language": "python",
   "name": "python3"
  },
  "language_info": {
   "codemirror_mode": {
    "name": "ipython",
    "version": 3
   },
   "file_extension": ".py",
   "mimetype": "text/x-python",
   "name": "python",
   "nbconvert_exporter": "python",
   "pygments_lexer": "ipython3",
   "version": "3.9.7"
  }
 },
 "nbformat": 4,
 "nbformat_minor": 2
}
