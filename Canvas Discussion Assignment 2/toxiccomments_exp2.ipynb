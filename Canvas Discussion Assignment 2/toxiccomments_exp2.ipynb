{
 "cells": [
  {
   "cell_type": "markdown",
   "metadata": {},
   "source": [
    "# Toxic comments\n",
    "\n",
    "This notebook takes you though a complete iteration of Machine Learning Assignment 1 - Toxic comments. The assignment details (including links to download the data) can be found [here](https://docs.google.com/document/d/1WGYw99e5q6j5V0Zrf2HveagU6URt_kVvdR8B9HYQ99E/edit?usp=sharing). "
   ]
  },
  {
   "cell_type": "code",
   "execution_count": 1,
   "metadata": {},
   "outputs": [],
   "source": [
    "# all imports and magic commands\n",
    "import numpy as np\n",
    "import pandas as pd\n",
    "import matplotlib.pyplot as plt\n",
    "from my_measures import BinaryClassificationPerformance\n",
    "from sklearn.feature_extraction.text import HashingVectorizer\n",
    "from sklearn.feature_extraction.text import TfidfTransformer\n",
    "from sklearn.feature_extraction.text import CountVectorizer\n",
    "from scipy.sparse import csr_matrix, hstack\n",
    "from sklearn.preprocessing import StandardScaler\n",
    "from sklearn.model_selection import train_test_split\n",
    "%matplotlib inline"
   ]
  },
  {
   "cell_type": "markdown",
   "metadata": {},
   "source": [
    "### IMPORTANT!!! Make sure you are using `BinaryClassificationPerformance` v1.02"
   ]
  },
  {
   "cell_type": "code",
   "execution_count": 2,
   "metadata": {},
   "outputs": [
    {
     "name": "stdout",
     "output_type": "stream",
     "text": [
      "Help on class BinaryClassificationPerformance in module my_measures:\n",
      "\n",
      "class BinaryClassificationPerformance(builtins.object)\n",
      " |  Performance measures to evaluate the fit of a binary classification model, v1.02\n",
      " |  \n",
      " |  Methods defined here:\n",
      " |  \n",
      " |  __init__(self, predictions, labels, desc, probabilities=None)\n",
      " |      Initialize attributes: predictions-vector of predicted values for Y, labels-vector of labels for Y\n",
      " |  \n",
      " |  compute_measures(self)\n",
      " |      Compute performance measures defined by Flach p. 57\n",
      " |  \n",
      " |  img_indices(self)\n",
      " |      Get the indices of true and false positives to be able to locate the corresponding images in a list of image names\n",
      " |  \n",
      " |  ----------------------------------------------------------------------\n",
      " |  Data descriptors defined here:\n",
      " |  \n",
      " |  __dict__\n",
      " |      dictionary for instance variables (if defined)\n",
      " |  \n",
      " |  __weakref__\n",
      " |      list of weak references to the object (if defined)\n",
      "\n"
     ]
    }
   ],
   "source": [
    "help(BinaryClassificationPerformance)"
   ]
  },
  {
   "cell_type": "markdown",
   "metadata": {},
   "source": [
    "# Function for feature building and extraction on natural language data"
   ]
  },
  {
   "cell_type": "code",
   "execution_count": 3,
   "metadata": {},
   "outputs": [],
   "source": [
    "# function that takes raw data and completes all preprocessing required before model fits\n",
    "def process_raw_data(fn, my_random_seed, test=False):\n",
    "    # read and summarize data\n",
    "    toxic_data = pd.read_csv(fn)\n",
    "    if (not test):\n",
    "        # add an indicator for any toxic, severe toxic, obscene, threat, insult, or indentity hate\n",
    "        toxic_data['any_toxic'] = (toxic_data['toxic'] + toxic_data['severe_toxic'] + toxic_data['obscene'] + toxic_data['threat'] + toxic_data['insult'] + toxic_data['identity_hate'] > 0)\n",
    "    print(\"toxic_data is:\", type(toxic_data))\n",
    "    print(\"toxic_data has\", toxic_data.shape[0], \"rows and\", toxic_data.shape[1], \"columns\", \"\\n\")\n",
    "    print(\"the data types for each of the columns in toxic_data:\")\n",
    "    print(toxic_data.dtypes, \"\\n\")\n",
    "    print(\"the first 10 rows in toxic_data:\")\n",
    "    print(toxic_data.head(5))\n",
    "    if (not test):\n",
    "        print(\"The rate of 'toxic' Wikipedia comments in the dataset: \")\n",
    "        print(toxic_data['any_toxic'].mean())\n",
    "\n",
    "    # vectorize Bag of Words from review text; as sparse matrix\n",
    "    if (not test): # fit_transform()\n",
    "        hv = CountVectorizer() #HashingVectorizer(n_features=2 ** 17, alternate_sign=False)\n",
    "        X_hv = hv.fit_transform(toxic_data.comment_text)\n",
    "        fitted_transformations.append(hv)\n",
    "        print(\"Shape of CountVectorizer X:\")\n",
    "        print(X_hv.shape)\n",
    "    else: # transform() \n",
    "        X_hv = fitted_transformations[0].transform(toxic_data.comment_text)\n",
    "        print(\"Shape of CountVectorizer X:\")\n",
    "        print(X_hv.shape)\n",
    "    \n",
    "    # http://scikit-learn.org/stable/modules/generated/sklearn.feature_extraction.text.TfidfTransformer.html\n",
    "    if (not test):\n",
    "        transformer = TfidfTransformer()\n",
    "        X_tfidf = transformer.fit_transform(X_hv)\n",
    "        fitted_transformations.append(transformer)\n",
    "    else:\n",
    "        X_tfidf = fitted_transformations[1].transform(X_hv)\n",
    "    \n",
    "    # create additional quantitative features\n",
    "    # features from Amazon.csv to add to feature set\n",
    "    toxic_data['word_count'] = toxic_data['comment_text'].str.split(' ').str.len()\n",
    "    toxic_data['punc_count'] = toxic_data['comment_text'].str.count(\"\\.\")\n",
    "\n",
    "    X_quant_features = toxic_data[[\"word_count\", \"punc_count\"]]\n",
    "    print(\"Look at a few rows of the new quantitative features: \")\n",
    "    print(X_quant_features.head(10))\n",
    "    \n",
    "    # Combine all quantitative features into a single sparse matrix\n",
    "    X_quant_features_csr = csr_matrix(X_quant_features)\n",
    "    X_combined = hstack([X_tfidf, X_quant_features_csr])\n",
    "    X_matrix = csr_matrix(X_combined) # convert to sparse matrix\n",
    "    print(\"Size of combined bag of words and new quantitative variables matrix:\")\n",
    "    print(X_matrix.shape)\n",
    "    \n",
    "    # Create `X`, scaled matrix of features\n",
    "    # feature scaling\n",
    "    if (not test):\n",
    "        sc = StandardScaler(with_mean=False)\n",
    "        X = sc.fit_transform(X_matrix)\n",
    "        fitted_transformations.append(sc)\n",
    "        print(X.shape)\n",
    "        y = toxic_data['any_toxic']\n",
    "    else:\n",
    "        X = fitted_transformations[2].transform(X_matrix)\n",
    "        print(X.shape)\n",
    "    \n",
    "    # Create Training and Test Sets\n",
    "    # enter an integer for the random_state parameter; any integer will work\n",
    "    if (test):\n",
    "        X_submission_test = X\n",
    "        print(\"Shape of X_test for submission:\")\n",
    "        print(X_submission_test.shape)\n",
    "        print('SUCCESS!')\n",
    "        return(toxic_data, X_submission_test)\n",
    "    else: \n",
    "        X_train, X_test, y_train, y_test, X_raw_train, X_raw_test = train_test_split(X, y, toxic_data, test_size=0.2, random_state=my_random_seed)\n",
    "        print(\"Shape of X_train and X_test:\")\n",
    "        print(X_train.shape)\n",
    "        print(X_test.shape)\n",
    "        print(\"Shape of y_train and y_test:\")\n",
    "        print(y_train.shape)\n",
    "        print(y_test.shape)\n",
    "        print(\"Shape of X_raw_train and X_raw_test:\")\n",
    "        print(X_raw_train.shape)\n",
    "        print(X_raw_test.shape)\n",
    "        print('SUCCESS!')\n",
    "        return(X_train, X_test, y_train, y_test, X_raw_train, X_raw_test)"
   ]
  },
  {
   "cell_type": "markdown",
   "metadata": {},
   "source": [
    "# Create training and test sets from function"
   ]
  },
  {
   "cell_type": "code",
   "execution_count": 4,
   "metadata": {},
   "outputs": [
    {
     "name": "stdout",
     "output_type": "stream",
     "text": [
      "toxic_data is: <class 'pandas.core.frame.DataFrame'>\n",
      "toxic_data has 159571 rows and 9 columns \n",
      "\n",
      "the data types for each of the columns in toxic_data:\n",
      "id               object\n",
      "comment_text     object\n",
      "toxic             int64\n",
      "severe_toxic      int64\n",
      "obscene           int64\n",
      "threat            int64\n",
      "insult            int64\n",
      "identity_hate     int64\n",
      "any_toxic          bool\n",
      "dtype: object \n",
      "\n",
      "the first 10 rows in toxic_data:\n",
      "                 id                                       comment_text  toxic  \\\n",
      "0  0000997932d777bf  Explanation\\nWhy the edits made under my usern...      0   \n",
      "1  000103f0d9cfb60f  D'aww! He matches this background colour I'm s...      0   \n",
      "2  000113f07ec002fd  Hey man, I'm really not trying to edit war. It...      0   \n",
      "3  0001b41b1c6bb37e  \"\\nMore\\nI can't make any real suggestions on ...      0   \n",
      "4  0001d958c54c6e35  You, sir, are my hero. Any chance you remember...      0   \n",
      "\n",
      "   severe_toxic  obscene  threat  insult  identity_hate  any_toxic  \n",
      "0             0        0       0       0              0      False  \n",
      "1             0        0       0       0              0      False  \n",
      "2             0        0       0       0              0      False  \n",
      "3             0        0       0       0              0      False  \n",
      "4             0        0       0       0              0      False  \n",
      "The rate of 'toxic' Wikipedia comments in the dataset: \n",
      "0.10167887648758234\n",
      "Shape of CountVectorizer X:\n",
      "(159571, 189775)\n",
      "Look at a few rows of the new quantitative features: \n",
      "   word_count  punc_count\n",
      "0          42           5\n",
      "1          18           2\n",
      "2          42           3\n",
      "3         112           3\n",
      "4          13           1\n",
      "5          12           1\n",
      "6           8           0\n",
      "7          21           2\n",
      "8          83           7\n",
      "9          12           0\n",
      "Size of combined bag of words and new quantitative variables matrix:\n",
      "(159571, 189777)\n",
      "(159571, 189777)\n",
      "Shape of X_train and X_test:\n",
      "(127656, 189777)\n",
      "(31915, 189777)\n",
      "Shape of y_train and y_test:\n",
      "(127656,)\n",
      "(31915,)\n",
      "Shape of X_raw_train and X_raw_test:\n",
      "(127656, 11)\n",
      "(31915, 11)\n",
      "SUCCESS!\n",
      "Number of fits stored in `fitted_transformations` list: \n",
      "3\n"
     ]
    }
   ],
   "source": [
    "# create an empty list to store any use of fit_transform() to transform() later\n",
    "# it is a global list to store model and feature extraction fits\n",
    "fitted_transformations = []\n",
    "\n",
    "# CHANGE FILE PATH and my_random_seed number (any integer other than 74 will do): \n",
    "X_train, X_test, y_train, y_test, X_raw_train, X_raw_test = process_raw_data(fn='./toxiccomments_train.csv', my_random_seed=15)\n",
    "\n",
    "print(\"Number of fits stored in `fitted_transformations` list: \")\n",
    "print(len(fitted_transformations))"
   ]
  },
  {
   "cell_type": "markdown",
   "metadata": {},
   "source": [
    "# Ridege Regression with Different  Regularizations"
   ]
  },
  {
   "cell_type": "code",
   "execution_count": 83,
   "metadata": {},
   "outputs": [
    {
     "name": "stdout",
     "output_type": "stream",
     "text": [
      "alpha:0.1 {'Pos': 13000, 'Neg': 114656, 'TP': 12138, 'TN': 114517, 'FP': 139, 'FN': 862, 'Accuracy': 0.992158613774519, 'Precision': 0.988678015801906, 'Recall': 0.9336923076923077, 'desc': 'rdg_alpha:0.1'}\n"
     ]
    }
   ],
   "source": [
    "# --- rdg_1: alpha=0.1 ---\n",
    "rdg_1 = linear_model.RidgeClassifier(alpha=0.1)\n",
    "rdg_1.fit(X_train, y_train)\n",
    "rdg_performance_train_1 = BinaryClassificationPerformance(rdg_1.predict(X_train), y_train, 'rdg_alpha:1e-1')\n",
    "rdg_performance_train_1.compute_measures()\n",
    "print('alpha:1e-1', rdg_performance_train_1.performance_measures)"
   ]
  },
  {
   "cell_type": "code",
   "execution_count": 84,
   "metadata": {},
   "outputs": [
    {
     "name": "stdout",
     "output_type": "stream",
     "text": [
      "alpha:1e1 {'Pos': 13000, 'Neg': 114656, 'TP': 12139, 'TN': 114516, 'FP': 140, 'FN': 861, 'Accuracy': 0.992158613774519, 'Precision': 0.9885984200667807, 'Recall': 0.9337692307692308, 'desc': 'rdg_alpha:1e0'}\n"
     ]
    }
   ],
   "source": [
    "# --- rdg_2: alpha=1 ---\n",
    "rdg_2 = linear_model.RidgeClassifier(alpha=1)\n",
    "rdg_2.fit(X_train, y_train)\n",
    "rdg_performance_train_2 = BinaryClassificationPerformance(rdg_2.predict(X_train), y_train, 'rdg_alpha:1e0')\n",
    "rdg_performance_train_2.compute_measures()\n",
    "print('alpha:1e0', rdg_performance_train_2.performance_measures)"
   ]
  },
  {
   "cell_type": "code",
   "execution_count": 85,
   "metadata": {},
   "outputs": [
    {
     "name": "stdout",
     "output_type": "stream",
     "text": [
      "alpha:1e1 {'Pos': 13000, 'Neg': 114656, 'TP': 12136, 'TN': 114518, 'FP': 138, 'FN': 864, 'Accuracy': 0.9921507802218462, 'Precision': 0.9887567215251751, 'Recall': 0.9335384615384615, 'desc': 'rdg_alpha:1e1'}\n"
     ]
    }
   ],
   "source": [
    "# --- rdg_3: alpha=10 ---\n",
    "rdg_3 = linear_model.RidgeClassifier(alpha=1e1)\n",
    "rdg_3.fit(X_train, y_train)\n",
    "rdg_performance_train_3 = BinaryClassificationPerformance(rdg_3.predict(X_train), y_train, 'rdg_alpha:1e1')\n",
    "rdg_performance_train_3.compute_measures()\n",
    "print('alpha:1e1', rdg_performance_train_3.performance_measures)"
   ]
  },
  {
   "cell_type": "code",
   "execution_count": 86,
   "metadata": {},
   "outputs": [
    {
     "name": "stdout",
     "output_type": "stream",
     "text": [
      "alpha:1e2 {'Pos': 13000, 'Neg': 114656, 'TP': 12126, 'TN': 114519, 'FP': 137, 'FN': 874, 'Accuracy': 0.992080278247791, 'Precision': 0.9888281823371117, 'Recall': 0.9327692307692308, 'desc': 'rdg_alpha:1e2'}\n"
     ]
    }
   ],
   "source": [
    "# --- rdg_4: alpha=100 ---\n",
    "rdg_4 = linear_model.RidgeClassifier(alpha=1e2)\n",
    "rdg_4.fit(X_train, y_train)\n",
    "rdg_performance_train_4 = BinaryClassificationPerformance(rdg_4.predict(X_train), y_train, 'rdg_alpha:1e2')\n",
    "rdg_performance_train_4.compute_measures()\n",
    "print('alpha:1e2', rdg_performance_train_4.performance_measures)"
   ]
  },
  {
   "cell_type": "code",
   "execution_count": 87,
   "metadata": {},
   "outputs": [
    {
     "name": "stdout",
     "output_type": "stream",
     "text": [
      "alpha:1e3 {'Pos': 13000, 'Neg': 114656, 'TP': 12065, 'TN': 114521, 'FP': 135, 'FN': 935, 'Accuracy': 0.9916180986400952, 'Precision': 0.9889344262295082, 'Recall': 0.928076923076923, 'desc': 'rdg_alpha:1e3'}\n"
     ]
    }
   ],
   "source": [
    "# --- rdg_5: alpha=1000 ---\n",
    "rdg_5 = linear_model.RidgeClassifier(alpha=1e3)\n",
    "rdg_5.fit(X_train, y_train)\n",
    "rdg_performance_train_5 = BinaryClassificationPerformance(rdg_5.predict(X_train), y_train, 'rdg_alpha:1e3')\n",
    "rdg_performance_train_5.compute_measures()\n",
    "print('alpha:1e3', rdg_performance_train_5.performance_measures)\n"
   ]
  },
  {
   "cell_type": "code",
   "execution_count": 88,
   "metadata": {},
   "outputs": [
    {
     "name": "stdout",
     "output_type": "stream",
     "text": [
      "alpha:1e4 {'Pos': 13000, 'Neg': 114656, 'TP': 11785, 'TN': 114540, 'FP': 116, 'FN': 1215, 'Accuracy': 0.9895735413924923, 'Precision': 0.9902529199226956, 'Recall': 0.9065384615384615, 'desc': 'rdg_alpha:1e4'}\n"
     ]
    }
   ],
   "source": [
    "# --- rdg_6: alpha=10000 ---\n",
    "rdg_6 = linear_model.RidgeClassifier(alpha=1e4)\n",
    "rdg_6.fit(X_train, y_train)\n",
    "rdg_performance_train_6 = BinaryClassificationPerformance(rdg_6.predict(X_train), y_train, 'rdg_alpha:1e4')\n",
    "rdg_performance_train_6.compute_measures()\n",
    "print('alpha:1e4', rdg_performance_train_6.performance_measures)"
   ]
  },
  {
   "cell_type": "code",
   "execution_count": 89,
   "metadata": {},
   "outputs": [
    {
     "name": "stdout",
     "output_type": "stream",
     "text": [
      "alpha:1e5 {'Pos': 13000, 'Neg': 114656, 'TP': 10026, 'TN': 114624, 'FP': 32, 'FN': 2974, 'Accuracy': 0.9764523406655387, 'Precision': 0.996818452972758, 'Recall': 0.7712307692307693, 'desc': 'rdg_alpha:1e5'}\n"
     ]
    }
   ],
   "source": [
    "# --- rdg_7: alpha=1e5 ---\n",
    "rdg_7 = linear_model.RidgeClassifier(alpha=1e5)\n",
    "rdg_7.fit(X_train, y_train)\n",
    "rdg_performance_train_7 = BinaryClassificationPerformance(rdg_7.predict(X_train), y_train, 'rdg_alpha:1e5')\n",
    "rdg_performance_train_7.compute_measures()\n",
    "print('alpha:1e5', rdg_performance_train_7.performance_measures)"
   ]
  },
  {
   "cell_type": "code",
   "execution_count": 90,
   "metadata": {},
   "outputs": [
    {
     "name": "stdout",
     "output_type": "stream",
     "text": [
      "alpha:1e6 {'Pos': 13000, 'Neg': 114656, 'TP': 991, 'TN': 114655, 'FP': 1, 'FN': 12009, 'Accuracy': 0.9059190323995738, 'Precision': 0.998991935483871, 'Recall': 0.07623076923076923, 'desc': 'rdg_alpha:1e6'}\n"
     ]
    }
   ],
   "source": [
    "# --- rdg_8: alpha=1e6 ---\n",
    "rdg_8 = linear_model.RidgeClassifier(alpha=1e6)\n",
    "rdg_8.fit(X_train, y_train)\n",
    "rdg_performance_train_8 = BinaryClassificationPerformance(rdg_8.predict(X_train), y_train, 'rdg_alpha:1e6')\n",
    "rdg_performance_train_8.compute_measures()\n",
    "print('alpha:1e6', rdg_performance_train_8.performance_measures)"
   ]
  },
  {
   "cell_type": "code",
   "execution_count": null,
   "metadata": {},
   "outputs": [],
   "source": []
  },
  {
   "cell_type": "code",
   "execution_count": null,
   "metadata": {},
   "outputs": [],
   "source": []
  },
  {
   "cell_type": "markdown",
   "metadata": {},
   "source": [
    "### ROC plot to compare performance of various models and fits"
   ]
  },
  {
   "cell_type": "code",
   "execution_count": 130,
   "metadata": {
    "scrolled": false
   },
   "outputs": [
    {
     "data": {
      "image/png": "[encoded data removed]",
      "text/plain": [
       "<Figure size 432x288 with 1 Axes>"
      ]
     },
     "metadata": {
      "needs_background": "light"
     },
     "output_type": "display_data"
    }
   ],
   "source": [
    "fits = [rdg_performance_train_1,rdg_performance_train_2, rdg_performance_train_3,rdg_performance_train_4,rdg_performance_train_5,rdg_performance_train_6,\n",
    "       rdg_performance_train_7,rdg_performance_train_8]\n",
    "colors = ['red','yellow','blue','green','black','gray','orange','purple']\n",
    "\n",
    "for i in range(len(fits)):\n",
    "    fit = fits[i]\n",
    "    color = colors[i]\n",
    "    label = fit.desc\n",
    "    plt.plot(fit.performance_measures['FP'] / fit.performance_measures['Neg'], \n",
    "             fit.performance_measures['TP'] / fit.performance_measures['Pos'], 'bo',color=color, label=label)\n",
    "    plt.legend(loc='upper right')\n",
    "    #plt.text(fit.performance_measures['FP'] / fit.performance_measures['Neg'], \n",
    "    #         fit.performance_measures['TP'] / fit.performance_measures['Pos'], fit.desc)\n",
    "    \n",
    "#plt.plot(x, y, linewidth = '1', label = \"test\", color=' coral ', linestyle=':', marker='|')\n",
    "plt.axis([-0.0001, 0.0025, 0, 0.97])\n",
    "plt.title('ROC plot: train set')\n",
    "plt.xlabel('False positive rate')\n",
    "plt.ylabel('True positive rate')\n",
    "plt.show()\n"
   ]
  },
  {
   "cell_type": "markdown",
   "metadata": {},
   "source": [
    "### let's look at some false positives:"
   ]
  },
  {
   "cell_type": "code",
   "execution_count": 47,
   "metadata": {},
   "outputs": [],
   "source": [
    "rgd8_predictions = rdg_8.predict(X_train)"
   ]
  },
  {
   "cell_type": "code",
   "execution_count": 50,
   "metadata": {},
   "outputs": [
    {
     "name": "stdout",
     "output_type": "stream",
     "text": [
      "Examples of false positives:\n",
      "1415\n",
      "Okay, I'm sorry, I didn't know that telling someone what I thought of them was abuse, I called him a coward and an idiot, and I just lost my rag because I believed that he'd unfairly blocked my friends, I'm sorry but we all lose our heads sometimes and I was just annoyed, please unblock me, if you do, can you give me the template which takes me to recent vandalism. Thanks\n",
      "* * * * * * * * * \n",
      "4623\n",
      "In really nasty cases, these things can take years to kill.\n",
      "* * * * * * * * * \n",
      "57227\n",
      "what's with the weird conspiracy theory crap?\n",
      "* * * * * * * * * \n",
      "65251\n",
      "(I'm talking on the lesbian and vagina article, not the talk page)\n",
      "* * * * * * * * * \n",
      "83162\n",
      "Why are you here? Is this random or did I piss you off somehow?\n",
      "* * * * * * * * * \n",
      "88871\n",
      "Do you really hate me?\n",
      "* * * * * * * * * \n",
      "89761\n",
      "Holding Jews to higher standards than Arabs is racist. Do you think Arabs are inferior to Jews?\n",
      "* * * * * * * * * \n",
      "112618\n",
      "Not at this time, fag.\n",
      "* * * * * * * * * \n",
      "113688\n",
      "Fat ==\n",
      "LAUREN LOZANO... enough said...\n",
      "* * * * * * * * * \n"
     ]
    }
   ],
   "source": [
    "# false positives\n",
    "\n",
    "print(\"Examples of false positives:\")\n",
    "\n",
    "import random, time\n",
    "\n",
    "for i in range(0, len(rgd8_predictions)):\n",
    "    if (rgd8_predictions[i] == 1):\n",
    "        if (X_raw_train.iloc[i]['any_toxic'] == 0):\n",
    "            if (random.uniform(0, 1) < 0.05): # to print only 5% of the false positives\n",
    "                print(i)\n",
    "                print(X_raw_train.iloc[i]['comment_text'])\n",
    "                print('* * * * * * * * * ')\n"
   ]
  },
  {
   "cell_type": "markdown",
   "metadata": {},
   "source": [
    "---\n",
    "\n",
    "# <span style=\"color:red\">WARNING: Don't look at test set performance too much!</span>\n",
    "\n",
    "---\n",
    "\n",
    "The following cells show performance on your test set. Do not look at this too often! "
   ]
  },
  {
   "cell_type": "markdown",
   "metadata": {},
   "source": [
    "# Look at performance on the test set"
   ]
  },
  {
   "cell_type": "markdown",
   "metadata": {},
   "source": [
    "### MODEL: Ridge Regression Classifier"
   ]
  },
  {
   "cell_type": "code",
   "execution_count": 115,
   "metadata": {},
   "outputs": [
    {
     "name": "stdout",
     "output_type": "stream",
     "text": [
      "{'Pos': 3225, 'Neg': 28690, 'TP': 1815, 'TN': 26931, 'FP': 1759, 'FN': 1410, 'Accuracy': 0.9007049976500079, 'Precision': 0.5078343592613318, 'Recall': 0.5627906976744186, 'desc': 'rdg_alpha:0.1'}\n"
     ]
    }
   ],
   "source": [
    "rdg_performance_test_1 = BinaryClassificationPerformance(rdg_1.predict(X_test), y_test, 'rdg_alpha:0.1')\n",
    "rdg_performance_test_1.compute_measures()\n",
    "print(rdg_performance_test_1.performance_measures)"
   ]
  },
  {
   "cell_type": "code",
   "execution_count": 107,
   "metadata": {},
   "outputs": [
    {
     "name": "stdout",
     "output_type": "stream",
     "text": [
      "{'Pos': 3225, 'Neg': 28690, 'TP': 1816, 'TN': 26938, 'FP': 1752, 'FN': 1409, 'Accuracy': 0.9009556634811218, 'Precision': 0.5089686098654709, 'Recall': 0.5631007751937984, 'desc': 'rdg_alpha:1'}\n"
     ]
    }
   ],
   "source": [
    "rdg_performance_test_2 = BinaryClassificationPerformance(rdg_2.predict(X_test), y_test, 'rdg_alpha:1')\n",
    "rdg_performance_test_2.compute_measures()\n",
    "print(rdg_performance_test_2.performance_measures)"
   ]
  },
  {
   "cell_type": "code",
   "execution_count": 108,
   "metadata": {},
   "outputs": [
    {
     "name": "stdout",
     "output_type": "stream",
     "text": [
      "{'Pos': 3225, 'Neg': 28690, 'TP': 1821, 'TN': 26995, 'FP': 1695, 'FN': 1404, 'Accuracy': 0.9028983236722544, 'Precision': 0.5179180887372014, 'Recall': 0.5646511627906977, 'desc': 'rdg_alpha:10'}\n"
     ]
    }
   ],
   "source": [
    "rdg_performance_test_3 = BinaryClassificationPerformance(rdg_3.predict(X_test), y_test, 'rdg_alpha:10')\n",
    "rdg_performance_test_3.compute_measures()\n",
    "print(rdg_performance_test_3.performance_measures)"
   ]
  },
  {
   "cell_type": "code",
   "execution_count": 109,
   "metadata": {},
   "outputs": [
    {
     "name": "stdout",
     "output_type": "stream",
     "text": [
      "{'Pos': 3225, 'Neg': 28690, 'TP': 1814, 'TN': 27171, 'FP': 1519, 'FN': 1411, 'Accuracy': 0.9081936393545355, 'Precision': 0.5442544254425442, 'Recall': 0.5624806201550387, 'desc': 'rdg_alpha:1e2'}\n"
     ]
    }
   ],
   "source": [
    "rdg_performance_test_4 = BinaryClassificationPerformance(rdg_4.predict(X_test), y_test, 'rdg_alpha:1e2')\n",
    "rdg_performance_test_4.compute_measures()\n",
    "print(rdg_performance_test_4.performance_measures)"
   ]
  },
  {
   "cell_type": "code",
   "execution_count": 110,
   "metadata": {},
   "outputs": [
    {
     "name": "stdout",
     "output_type": "stream",
     "text": [
      "{'Pos': 3225, 'Neg': 28690, 'TP': 1789, 'TN': 27706, 'FP': 984, 'FN': 1436, 'Accuracy': 0.9241735860880463, 'Precision': 0.6451496574107465, 'Recall': 0.5547286821705426, 'desc': 'rdg_alpha:1e3'}\n"
     ]
    }
   ],
   "source": [
    "rdg_performance_test_5 = BinaryClassificationPerformance(rdg_5.predict(X_test), y_test, 'rdg_alpha:1e3')\n",
    "rdg_performance_test_5.compute_measures()\n",
    "print(rdg_performance_test_5.performance_measures)"
   ]
  },
  {
   "cell_type": "code",
   "execution_count": 111,
   "metadata": {},
   "outputs": [
    {
     "name": "stdout",
     "output_type": "stream",
     "text": [
      "{'Pos': 3225, 'Neg': 28690, 'TP': 1721, 'TN': 28234, 'FP': 456, 'FN': 1504, 'Accuracy': 0.9385868713770954, 'Precision': 0.7905374368396877, 'Recall': 0.5336434108527132, 'desc': 'rdg_alpha:1e4'}\n"
     ]
    }
   ],
   "source": [
    "rdg_performance_test_6 = BinaryClassificationPerformance(rdg_6.predict(X_test), y_test, 'rdg_alpha:1e4')\n",
    "rdg_performance_test_6.compute_measures()\n",
    "print(rdg_performance_test_6.performance_measures)"
   ]
  },
  {
   "cell_type": "code",
   "execution_count": 112,
   "metadata": {},
   "outputs": [
    {
     "name": "stdout",
     "output_type": "stream",
     "text": [
      "{'Pos': 3225, 'Neg': 28690, 'TP': 1295, 'TN': 28613, 'FP': 77, 'FN': 1930, 'Accuracy': 0.9371142096193013, 'Precision': 0.9438775510204082, 'Recall': 0.4015503875968992, 'desc': 'rdg_alpha:1e5'}\n"
     ]
    }
   ],
   "source": [
    "rdg_performance_test_7 = BinaryClassificationPerformance(rdg_7.predict(X_test), y_test, 'rdg_alpha:1e5')\n",
    "rdg_performance_test_7.compute_measures()\n",
    "print(rdg_performance_test_7.performance_measures)"
   ]
  },
  {
   "cell_type": "code",
   "execution_count": 113,
   "metadata": {},
   "outputs": [
    {
     "name": "stdout",
     "output_type": "stream",
     "text": [
      "{'Pos': 3225, 'Neg': 28690, 'TP': 78, 'TN': 28690, 'FP': 0, 'FN': 3147, 'Accuracy': 0.901394328685571, 'Precision': 1.0, 'Recall': 0.024186046511627906, 'desc': 'rdg_alpha:1e6'}\n"
     ]
    }
   ],
   "source": [
    "rdg_performance_test_8 = BinaryClassificationPerformance(rdg_8.predict(X_test), y_test, 'rdg_alpha:1e6')\n",
    "rdg_performance_test_8.compute_measures()\n",
    "print(rdg_performance_test_8.performance_measures)"
   ]
  },
  {
   "cell_type": "code",
   "execution_count": null,
   "metadata": {},
   "outputs": [],
   "source": []
  },
  {
   "cell_type": "code",
   "execution_count": null,
   "metadata": {},
   "outputs": [],
   "source": []
  },
  {
   "cell_type": "markdown",
   "metadata": {},
   "source": [
    "### ROC plot to compare performance of various models and fits"
   ]
  },
  {
   "cell_type": "code",
   "execution_count": 128,
   "metadata": {},
   "outputs": [
    {
     "data": {
      "image/png": "[encoded data removed]",
      "text/plain": [
       "<Figure size 432x288 with 1 Axes>"
      ]
     },
     "metadata": {
      "needs_background": "light"
     },
     "output_type": "display_data"
    }
   ],
   "source": [
    "fits = [rdg_performance_test_1, rdg_performance_test_2, rdg_performance_test_3,rdg_performance_test_4,rdg_performance_test_5,rdg_performance_test_6,\n",
    "       rdg_performance_test_7,rdg_performance_test_8]\n",
    "colors = ['red','yellow','blue','green','black','gray','orange','purple']\n",
    "\n",
    "\n",
    "for i in range(len(fits)):\n",
    "    fit = fits[i]\n",
    "    color = colors[i]\n",
    "    label = fit.desc\n",
    "    plt.plot(fit.performance_measures['FP'] / fit.performance_measures['Neg'], \n",
    "             fit.performance_measures['TP'] / fit.performance_measures['Pos'], 'bo',color=color, label=label)\n",
    "    plt.legend(loc='upper right')\n",
    "    #plt.text(fit.performance_measures['FP'] / fit.performance_measures['Neg'], \n",
    "    #         fit.performance_measures['TP'] / fit.performance_measures['Pos'], fit.desc)\n",
    "    \n",
    "#plt.plot(x, y, linewidth = '1', label = \"test\", color=' coral ', linestyle=':', marker='|')\n",
    "plt.axis([-0.01, 0.13, 0.0, 0.6])\n",
    "plt.title('ROC plot: test set')\n",
    "plt.xlabel('False positive rate')\n",
    "plt.ylabel('True positive rate')\n",
    "plt.show()"
   ]
  },
  {
   "cell_type": "code",
   "execution_count": null,
   "metadata": {},
   "outputs": [],
   "source": []
  }
 ],
 "metadata": {
  "kernelspec": {
   "display_name": "Python 3",
   "language": "python",
   "name": "python3"
  },
  "language_info": {
   "codemirror_mode": {
    "name": "ipython",
    "version": 3
   },
   "file_extension": ".py",
   "mimetype": "text/x-python",
   "name": "python",
   "nbconvert_exporter": "python",
   "pygments_lexer": "ipython3",
   "version": "3.6.13"
  }
 },
 "nbformat": 4,
 "nbformat_minor": 2
}
